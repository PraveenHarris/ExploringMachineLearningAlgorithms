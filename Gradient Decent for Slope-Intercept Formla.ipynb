{
 "cells": [
  {
   "cell_type": "code",
   "execution_count": 153,
   "metadata": {
    "collapsed": true
   },
   "outputs": [],
   "source": [
    "%matplotlib inline\n",
    "import numpy as np\n",
    "from matplotlib import pyplot as plt"
   ]
  },
  {
   "cell_type": "code",
   "execution_count": 154,
   "metadata": {
    "collapsed": true
   },
   "outputs": [],
   "source": [
    "def compute_error(points, m, b):\n",
    "    total_error = 0\n",
    "    for point in points:\n",
    "        x = point[0]\n",
    "        y = point[1]\n",
    "        total_error += (y - (m*x+b))**2\n",
    "    return int(total_error)"
   ]
  },
  {
   "cell_type": "code",
   "execution_count": 155,
   "metadata": {
    "collapsed": false
   },
   "outputs": [],
   "source": [
    "def print_points_on_graph(points, m, b):\n",
    "    x_cords = [point[0] for point in points]\n",
    "    y_cords = [point[1] for point in points]\n",
    "    fig = plt.figure()\n",
    "    ax = fig.add_subplot(111)\n",
    "    ax.set(title='Distance biked vs Calories burned', ylabel='Calories burned', xlabel='Distance biked')\n",
    "    ax.plot(x_cords, y_cords, 'bo')\n",
    "    \n",
    "    line_y_cords = [m*i+b for i in range(int(max(x_cords))+20)]\n",
    "    ax.plot(line_y_cords)"
   ]
  },
  {
   "cell_type": "code",
   "execution_count": 156,
   "metadata": {
    "collapsed": false
   },
   "outputs": [
    {
     "data": {
      "text/plain": [
       "'\\ndef step_step_gradient(m, b, points, learning_rate):\\n    b_grad = m_grad = 0\\n    \\n\\ndef run_gradient_decent(points, m, b, learning_rate, num_iterations):\\n    for i in range(num_iterations):\\n        m, b = step_gradient(m, b, points, learning_rate)\\n        \\n    return [m, b]\\n'"
      ]
     },
     "execution_count": 156,
     "metadata": {},
     "output_type": "execute_result"
    }
   ],
   "source": [
    "'''\n",
    "def step_step_gradient(m, b, points, learning_rate):\n",
    "    b_grad = m_grad = 0\n",
    "    \n",
    "\n",
    "def run_gradient_decent(points, m, b, learning_rate, num_iterations):\n",
    "    for i in range(num_iterations):\n",
    "        m, b = step_gradient(m, b, points, learning_rate)\n",
    "        \n",
    "    return [m, b]\n",
    "'''"
   ]
  },
  {
   "cell_type": "code",
   "execution_count": 157,
   "metadata": {
    "collapsed": false
   },
   "outputs": [
    {
     "name": "stdout",
     "output_type": "stream",
     "text": [
      "starting gradient decent at: y=1x+1 with an error measure = 63881\n"
     ]
    },
    {
     "data": {
      "image/png": "[encoded data removed]",
      "text/plain": [
       "<matplotlib.figure.Figure at 0x1b5b8134908>"
      ]
     },
     "metadata": {},
     "output_type": "display_data"
    }
   ],
   "source": [
    "def main():\n",
    "    points = []\n",
    "    with open('data.csv', 'r') as file:\n",
    "        for line in file:\n",
    "            temp_points = line.strip().split(',')\n",
    "            points.append(list(map(float, temp_points)))\n",
    "    \n",
    "    m = b = 1\n",
    "    learning_rate = 0.0001\n",
    "    num_iterations = 1000\n",
    "    \n",
    "    # do initial plot\n",
    "    print_points_on_graph(points, m, b)\n",
    "    error_measure = compute_error(points, m, b)\n",
    "    print('starting gradient decent at: y={}x+{} with an error measure = {}'.format(m, b, error_measure))\n",
    "        \n",
    "\n",
    "if __name__ == '__main__':\n",
    "    main()"
   ]
  },
  {
   "cell_type": "code",
   "execution_count": null,
   "metadata": {
    "collapsed": false
   },
   "outputs": [],
   "source": [
    "\n"
   ]
  },
  {
   "cell_type": "code",
   "execution_count": null,
   "metadata": {
    "collapsed": true
   },
   "outputs": [],
   "source": []
  },
  {
   "cell_type": "code",
   "execution_count": null,
   "metadata": {
    "collapsed": true
   },
   "outputs": [],
   "source": []
  },
  {
   "cell_type": "code",
   "execution_count": null,
   "metadata": {
    "collapsed": true
   },
   "outputs": [],
   "source": []
  }
 ],
 "metadata": {
  "kernelspec": {
   "display_name": "Python 3",
   "language": "python",
   "name": "python3"
  },
  "language_info": {
   "codemirror_mode": {
    "name": "ipython",
    "version": 3
   },
   "file_extension": ".py",
   "mimetype": "text/x-python",
   "name": "python",
   "nbconvert_exporter": "python",
   "pygments_lexer": "ipython3",
   "version": "3.6.0"
  }
 },
 "nbformat": 4,
 "nbformat_minor": 2
}
